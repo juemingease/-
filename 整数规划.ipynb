{
 "cells": [
  {
   "cell_type": "markdown",
   "metadata": {},
   "source": [
    "# 整数规划\n",
    "## 一般形式\n",
    "$$ max(min)z=\\sum\\limits_{j=1}^n c_jx_j$$\n",
    "$$\n",
    " s.t.\\left\\{\n",
    "\\begin{matrix}\n",
    "\\sum\\limits_{j=1}^n a_{ij}x_j\\leq (=,\\geq )b_i \\, (i=1,2,...m)  \\\\\n",
    "x_j\\geq 0,x_j为整数\\,(j=1,2,...n)\n",
    "\\end{matrix}\n",
    "\\right.\n",
    "$$\n",
    "## 分类\n",
    "1. 纯整数规划\n",
    "2. 全整数规划\n",
    "3. 混合整数规划\n",
    "4. 0-1整数规划\n",
    "## 算法\n",
    "1. 分支定界法：遍历上界下届，寻找最优整数解\n",
    "2. 割平面法：引入新的决策变量，从而引入新的约束条件，以此限制决策变量为整数（以上两种方法用于解决整数规划，但整数规划可以通过pulp直接解决，故不再讨论）\n",
    "3. 匈牙利算法：用于解决0-1整数规划\n"
   ]
  }
 ],
 "metadata": {
  "language_info": {
   "name": "python"
  },
  "orig_nbformat": 4
 },
 "nbformat": 4,
 "nbformat_minor": 2
}
