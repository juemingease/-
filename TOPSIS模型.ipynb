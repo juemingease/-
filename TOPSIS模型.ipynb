{
 "cells": [
  {
   "cell_type": "markdown",
   "metadata": {},
   "source": [
    "# 评价方法分类\n",
    "- 主观赋权法：综合指数法、模糊综合评判法、层次分析法、功效系数法\n",
    "- 客观赋权法：主成分分析法、因子分析法、理想解法(TOPSIS)\n",
    "# TOPSIS\n",
    "## 定义\n",
    "一种多指标评价方法，构造最优解和最劣解，通过计算到理想方案的贴近度来对方案进行排序，选出最佳方案。\n",
    "## 步骤\n",
    "1. 用向量规范化的方法求规范决策矩阵$B=(b_{ij})_{m\\times n}$\n",
    "$$b_{ij}=a_{ij}/\\sqrt {\\sum \\limits_{i-1}^m a_{ij}^2 }$$\n",
    "2. 构成加权规范化矩阵$C$\n",
    "$$c_{ij}=w_{ij}\\cdot b_{ij}$$\n",
    "3. 确定正理想解$C^*$和负理想解$C^0$\n",
    "4. 计算各方案到正理想解$s_i^*$与负理想解的距离$s_i^0$\n",
    "5. 计算各方案的排队指标值$$f_i^*=s_i^0/(s_i^0+s_i^*)$$\n",
    "6. 按$f_i^*$由大到小排列方案的优劣次序"
   ]
  }
 ],
 "metadata": {
  "language_info": {
   "name": "python"
  },
  "orig_nbformat": 4
 },
 "nbformat": 4,
 "nbformat_minor": 2
}
