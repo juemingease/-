{
 "cells": [
  {
   "cell_type": "markdown",
   "id": "ac3efd83",
   "metadata": {},
   "source": [
    "# 线性规划\n",
    "## 线性规划问题标准式\n",
    ">$$\n",
    "\\underset {x}min c^Tx\n",
    ">$$\n",
    ">$$\n",
    " s.t.\\left\\{\n",
    "\\begin{matrix}\n",
    " Ax\\leq b \\\\\n",
    " Aeq\\cdot x=beq \\\\\n",
    " lb\\leq x\\leq ub\n",
    "\\end{matrix}\n",
    "\\right.\n",
    "$$\n",
    "其中$c,x,b,beq,lb,ub$为列向量，$c$为价值向量，$b$称为资源向量，$A,Aeq$为矩阵。\n",
    "## 例题：求解下列线性规划问题\n",
    ">$$ max z=2x_1+3x_2-5x_3$$\n",
    ">$$\n",
    " s.t.\\left\\{\n",
    "\\begin{matrix}\n",
    " x_1+x_2+x_3=7 \\\\\n",
    " 2x_1-5x_2+x_3>=10 \\\\\n",
    " x_1+3x_2+x_3<=12 \\\\\n",
    " x_1,x_2,x_3>=0\n",
    "\\end{matrix}\n",
    "\\right.\n",
    "$$\n"
   ]
  },
  {
   "cell_type": "code",
   "execution_count": 4,
   "id": "c189f7a3",
   "metadata": {},
   "outputs": [
    {
     "name": "stdout",
     "output_type": "stream",
     "text": [
      "        message: Optimization terminated successfully. (HiGHS Status 7: Optimal)\n",
      "        success: True\n",
      "         status: 0\n",
      "            fun: -14.571428571428571\n",
      "              x: [ 6.429e+00  5.714e-01  0.000e+00]\n",
      "            nit: 3\n",
      "          lower:  residual: [ 6.429e+00  5.714e-01  0.000e+00]\n",
      "                 marginals: [ 0.000e+00  0.000e+00  7.143e+00]\n",
      "          upper:  residual: [       inf        inf        inf]\n",
      "                 marginals: [ 0.000e+00  0.000e+00  0.000e+00]\n",
      "          eqlin:  residual: [ 0.000e+00]\n",
      "                 marginals: [-2.286e+00]\n",
      "        ineqlin:  residual: [ 0.000e+00  3.857e+00]\n",
      "                 marginals: [-1.429e-01 -0.000e+00]\n",
      " mip_node_count: 0\n",
      " mip_dual_bound: 0.0\n",
      "        mip_gap: 0.0\n"
     ]
    }
   ],
   "source": [
    "from scipy import optimize\n",
    "import numpy as np \n",
    "c = np.array([-2,-3,5])\n",
    "A = np.array([[-2,5,-1],[1,3,1]])\n",
    "B = np.array([-10,12])\n",
    "Aeq = np.array([[1,1,1]])\n",
    "Beq = np.array([7])\n",
    "res = optimize.linprog(c,A,B,Aeq,Beq)\n",
    "print(res)"
   ]
  }
 ],
 "metadata": {
  "kernelspec": {
   "display_name": "Python 3",
   "language": "python",
   "name": "python3"
  },
  "language_info": {
   "codemirror_mode": {
    "name": "ipython",
    "version": 3
   },
   "file_extension": ".py",
   "mimetype": "text/x-python",
   "name": "python",
   "nbconvert_exporter": "python",
   "pygments_lexer": "ipython3",
   "version": "3.10.11"
  }
 },
 "nbformat": 4,
 "nbformat_minor": 5
}
